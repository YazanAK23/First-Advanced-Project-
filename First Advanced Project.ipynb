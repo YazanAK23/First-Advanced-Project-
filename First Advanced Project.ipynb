{
 "cells": [
  {
   "cell_type": "markdown",
   "id": "e4bb6e31",
   "metadata": {},
   "source": [
    "## THE First Advanced Project\n"
   ]
  },
  {
   "cell_type": "code",
   "execution_count": null,
   "id": "aa5322b7",
   "metadata": {},
   "outputs": [],
   "source": [
    "import csv\n",
    "\n",
    "#read the file \n",
    "def read_movies_from_csv(input_filename, output_filename, skip_lines=5):\n",
    "    ModifiesValues = {}\n",
    "    input_filename = 'C:\\\\Users\\\\YazanAbuKhaled\\\\Desktop\\\\Test Python\\\\input.csv'\n",
    "    output_filename = 'C:\\\\Users\\\\YazanAbuKhaled\\\\Desktop\\\\Test Python\\\\output.csv'\n",
    "    with open(input_filename, 'r') as input:\n",
    "        csv_reader = csv.reader(input)\n",
    "        #Skip the first 5 lines (Header of infotrmation)\n",
    "        for _ in range(skip_lines):\n",
    "            next(csv_reader)  # Skipping lines\n",
    "            \n",
    "            #Skip Empty Lines \n",
    "        for line in csv_reader:\n",
    "            if not line or line[0].startswith('</data>') or not any(col.strip() for col in line):\n",
    "                continue\n",
    "              #Slicicng for the first 6 cols   \n",
    "            movie_title = line[0].strip()\n",
    "            if movie_title not in ModifiesValues:\n",
    "                ModifiesValues[movie_title] = line[:6]\n",
    "     #Write on the Files            \n",
    "    with open(output_filename, 'w',newline = '') as outFile:\n",
    "        csv_writer = csv.writer(outFile)\n",
    "        for line in ModifiesValues.values():\n",
    "            new_row = ['Missing' if col == '' else col for col in line]\n",
    "            csv_writer.writerow(new_row)\n",
    "\n",
    "# Examples\n",
    "input_filename = 'C:\\\\Users\\\\YazanAbuKhaled\\\\Desktop\\\\Test Python\\\\input.csv'\n",
    "output_filename = 'C:\\\\Users\\\\YazanAbuKhaled\\\\Desktop\\\\Test Python\\\\outp ut.csv'\n",
    "read_movies_from_csv(input_filename, output_filename)\n"
   ]
  },
  {
   "cell_type": "code",
   "execution_count": null,
   "id": "680bc629",
   "metadata": {},
   "outputs": [],
   "source": []
  }
 ],
 "metadata": {
  "kernelspec": {
   "display_name": "Python 3 (ipykernel)",
   "language": "python",
   "name": "python3"
  },
  "language_info": {
   "codemirror_mode": {
    "name": "ipython",
    "version": 3
   },
   "file_extension": ".py",
   "mimetype": "text/x-python",
   "name": "python",
   "nbconvert_exporter": "python",
   "pygments_lexer": "ipython3",
   "version": "3.11.5"
  }
 },
 "nbformat": 4,
 "nbformat_minor": 5
}
